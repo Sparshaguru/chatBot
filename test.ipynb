{
 "cells": [
  {
   "cell_type": "code",
   "execution_count": 39,
   "metadata": {},
   "outputs": [
    {
     "name": "stderr",
     "output_type": "stream",
     "text": [
      "[nltk_data] Downloading package punkt to\n",
      "[nltk_data]     C:\\Users\\jckrj\\AppData\\Roaming\\nltk_data...\n",
      "[nltk_data]   Package punkt is already up-to-date!\n"
     ]
    },
    {
     "data": {
      "text/plain": [
       "True"
      ]
     },
     "execution_count": 39,
     "metadata": {},
     "output_type": "execute_result"
    }
   ],
   "source": [
    "import nltk\n",
    "nltk.download('punkt')\n"
   ]
  },
  {
   "cell_type": "markdown",
   "metadata": {},
   "source": [
    "Extract Text from HTML"
   ]
  },
  {
   "cell_type": "code",
   "execution_count": 3,
   "metadata": {},
   "outputs": [
    {
     "name": "stdout",
     "output_type": "stream",
     "text": [
      "\n",
      "\n",
      "\n",
      "\n",
      "\n",
      "\n",
      "\n",
      "<class 'str'>\n"
     ]
    }
   ],
   "source": [
    "import requests\n",
    "from bs4 import BeautifulSoup\n",
    "\n",
    "# Fetch HTML content\n",
    "url = 'https://doj.gov.in'  # Replace with your URL\n",
    "response = requests.get(url)\n",
    "\n",
    "# Parse HTML\n",
    "soup = BeautifulSoup(response.text, 'html.parser')\n",
    "print(soup)\n",
    "print(\"\\n\\n\\n\\n\\n\\n\")\n",
    "# Extract text\n",
    "text = soup.get_text()\n",
    "# print(type(text))\n"
   ]
  },
  {
   "cell_type": "markdown",
   "metadata": {},
   "source": [
    "Preprocess the Text"
   ]
  },
  {
   "cell_type": "code",
   "execution_count": 43,
   "metadata": {},
   "outputs": [
    {
     "name": "stdout",
     "output_type": "stream",
     "text": [
      "['department', 'of', 'justice', 'government', 'of', 'india', 'india', 'skip', 'to', 'main', 'content', 'search', 'search', 'social', 'media', 'links', 'sitemap', 'accessibility', 'links', 'accessibility', 'tools', 'color', 'contrast', 'high', 'contrast', 'normal', 'contrast', 'highlight', 'links', 'text', 'size', 'font', 'size', 'increase', 'font', 'size', 'decrease', 'normal', 'font', 'text', 'spacing', 'line', 'height', 'navigation', 'adjustment', 'screen', 'reader', 'english', 'ministry', 'of', 'law', 'and', 'justice', 'government', 'of', 'india', 'department', 'of', 'justice', 'menu', 'toggle', 'more', 'home', 'about', 'us', 'history', 'about', 'department', 'vision', 'and', 'mission', 'functions', 'of', 'department', 'organization', 'chart', 'administrative', 'setup', 'whos', 'who', 'monthly', 'achievements', 'citizens', 'charter', 'acts', 'and', 'rules', 'website', 'information', 'manager', 'administration', 'of', 'justice', 'appointment', 'of', 'judges', 'latest', 'orders', 'of', 'appointment', 'transfer', 'etc', 'memorandum', 'of', 'procedure', 'of', 'appointment', 'of', 'supreme', 'court', 'judges', 'memorandum', 'of', 'procedure', 'of', 'appointment', 'of', 'high', 'court', 'judges', 'list', 'of', 'supreme', 'court', 'judges', 'list', 'of', 'high', 'court', 'judges', 'list', 'of', 'chief', 'justice', 'of', 'the', 'high', 'court', 'vacancy', 'positions', 'high', 'courts', 'principal', 'seats', 'and', 'benches', 'justicei', 'pay', 'allowance', 'and', 'pension', 'first', 'national', 'judicial', 'pay', 'commission', 'second', 'national', 'judicial', 'pay', 'commission', 'memorandum', 'of', 'understanding', 'signed', 'with', 'other', 'countries', 'pecuniary', 'jurisdiction', 'of', 'delhi', 'district', 'courts', 'use', 'of', 'hindi', 'and', 'regional', 'languages', 'redressal', 'of', 'public', 'grievances', 'guidelines', 'of', 'grievances', 'justiceii', 'fast', 'track', 'special', 'court', 'ftscs', 'about', 'fast', 'track', 'special', 'court', 'ftscs', 'portal', 'special', 'courts', 'for', 'mpmla', 'about', 'special', 'courts', 'for', 'mpmla', 'portal', 'sanctions', 'fast', 'track', 'court', 'about', 'fast', 'track', 'court', 'portal', 'family', 'court', 'about', 'family', 'court', 'portal', 'national', 'judicial', 'academy', 'about', 'national', 'judicial', 'academy', 'website', 'pfms', 'national', 'mission', 'national', 'mission', 'for', 'justice', 'delivery', 'legal', 'reforms', 'vision', 'document', 'advisory', 'council', 'css', 'judicial', 'infrastructure', 'nyaya', 'vikas', 'ease', 'of', 'doing', 'business', 'gram', 'nyayalaya', 'scheme', 'for', 'action', 'research', 'and', 'studies', 'on', 'judicial', 'reforms', 'vacancy', 'position', 'in', 'district', 'and', 'subordinate', 'courts', 'ecourts', 'mmp', 'dashboard', 'phasei', 'phaseii', 'phaseiii', 'composition', 'of', 'ecommittee', 'ecommittee', 'newsletters', 'ecourts', 'achievements', 'computerization', 'and', 'wan', 'connectivity', 'cis', 'and', 'covid', 'management', 'software', 'patch', 'the', 'national', 'judicial', 'data', 'grid', 'njdg', 'virtual', 'courts', 'video', 'conferencing', 'live', 'streaming', 'efiling', 'epayments', 'esewa', 'kendra', 'ecourt', 'services', 'judgment', 'search', 'portal', 'national', 'service', 'and', 'tracking', 'of', 'electronic', 'processes', 'nstep', 'justice', 'clock', 'secure', 'scalable', 'sugamya', 'website', 'as', 'a', 'service', 'swaas', 'digitization', 'of', 'records', 'information', 'education', 'communication', 'iec', 'awards', 'and', 'recognition', 'mis', 'portal', 'for', 'cpcs', 'official', 'use', 'only', 'wan', 'monitoring', 'portal', 'official', 'use', 'only', 'training', 'and', 'awareness', 'programs', 'pfms', 'access', 'to', 'justice', 'designing', 'innovative', 'solutions', 'for', 'holistic', 'access', 'to', 'justice', 'tele', 'law', 'about', 'tele', 'law', 'portal', 'pamphlet', 'in', 'media', 'nyaya', 'bandhu', 'pro', 'bono', 'legal', 'services', 'about', 'activities', 'in', 'media', 'pamphlet', 'nyaya', 'bandhu', 'pro', 'bono', 'portal', 'legal', 'literacy', 'legal', 'awareness', 'about', 'iec', 'material', 'brochure', 'pamphlet', 'leaflet', 'webinars', 'in', 'media', 'digital', 'library', 'information', 'in', 'different', 'languages', 'videos', 'national', 'legal', 'services', 'authority', 'nalsa', 'about', 'nalsa', 'portal', 'grantsinaid', 'to', 'nalsa', 'samvidhan', 'about', 'hamara', 'samvidhan', 'hamara', 'samman', 'sabko', 'nyay', 'har', 'ghar', 'nyaya', 'overview', 'activities', 'nav', 'bharat', 'nav', 'sankalp', 'overview', 'activities', 'vidhi', 'jagriti', 'abhiyan', 'overview', 'activities', 'samvidhan', 'katta', 'about', 'guidelines', 'for', 'submission', 'media', 'event', 'national', 'event', 'overview', 'media', 'gallery', 'st', 'regional', 'event', 'overview', 'media', 'gallery', 'nd', 'regional', 'event', 'overview', 'media', 'gallery', 'gallery', 'photos', 'videos', 'media', 'corner', 'press', 'release', 'photo', 'gallery', 'video', 'gallery', 'events', 'dashboard', 'azadi', 'ka', 'amrit', 'mahotsav', 'national', 'legal', 'services', 'authority', 'nalsa', 'telelaw', 'other', 'programmes', 'others', 'parliament', 'questions', 'notices', 'recruitments', 'tenders', 'right', 'to', 'information', 'rti', 'pfms', 'orders', 'schemes', 'consolidated', 'guidelines', 'close', 'latest', 'news', 'new', 'sexual', 'harrasment', 'of', 'women', 'at', 'work', 'place', 'constitution', 'of', 'internal', 'complaints', 'committee', 'icc', 'in', 'the', 'department', 'of', 'justice', 'about', 'department', 'as', 'per', 'the', 'allocation', 'of', 'business', 'rules', 'department', 'of', 'justice', 'is', 'a', 'part', 'of', 'ministry', 'of', 'law', 'justice', 'government', 'of', 'india', 'it', 'is', 'one', 'of', 'the', 'oldest', 'ministries', 'of', 'the', 'government', 'of', 'india', 'till', 'department', 'of', 'justice', 'was', 'part', 'of', 'ministry', 'of', 'home', 'affairs', 'and', 'union', 'home', 'secretary', 'had', 'been', 'the', 'secretary', 'of', 'department', 'of', 'justice', 'keeping', 'in', 'view', 'the', 'increasing', 'workload', 'and', 'formulating', 'many', 'policies', 'and', 'programmes', 'on', 'judicial', 'reforms', 'in', 'the', 'country', 'a', 'separate', 'department', 'namely', 'department', 'of', 'justice', 'was', 'carved', 'out', 'from', 'mha', 'and', 'placed', 'under', 'the', 'charge', 'of', 'secretary', 'to', 'government', 'of', 'india', 'and', 'it', 'started', 'working', 'as', 'such', 'from', 'st', 'january', 'under', 'the', 'ministry', 'of', 'law', 'justice', 'the', 'department', 'is', 'housed', 'in', 'the', 'jaisalmer', 'house', 'man', 'singh', 'road', 'new', 'delhi', 'the', 'organizational', 'setup', 'of', 'the', 'department', 'includes', 'joint', 'secretaries', 'directors', 'deputy', 'secretaries', 'and', 'under', 'secretaries', 'the', 'functions', 'of', 'the', 'department', 'of', 'justice', 'include', 'the', 'appointment', 'resignation', 'and', 'removal', 'of', 'the', 'chief', 'justice', 'of', 'india', 'judges', 'of', 'the', 'supreme', 'court', 'of', 'india', 'chief', 'justices', 'and', 'judges', 'of', 'the', 'high', 'courts', 'and', 'their', 'service', 'matters', 'in', 'addition', 'the', 'department', 'implements', 'important', 'schemes', 'for', 'development', 'of', 'infrastructure', 'facilities', 'for', 'judiciary', 'setting', 'up', 'of', 'special', 'courts', 'for', 'speedy', 'trial', 'and', 'disposal', 'of', 'cases', 'of', 'sensitive', 'nature', 'fast', 'track', 'special', 'court', 'for', 'cases', 'of', 'rape', 'and', 'pocso', 'act', 'ecourt', 'project', 'on', 'computerization', 'of', 'various', 'courts', 'across', 'the', 'country', 'legal', 'aid', 'to', 'poor', 'and', 'access', 'to', 'justice', 'financial', 'assistance', 'to', 'national', 'judicial', 'academy', 'for', 'providing', 'training', 'to', 'the', 'judicial', 'officers', 'of', 'the', 'country', 'the', 'functions', 'of', 'department', 'of', 'justice', 'are', 'given', 'in', 'allocation', 'of', 'business', 'rules', 'whats', 'new', 'order', 'of', 'appointment', 'of', 'ms', 'r', 'poornima', 'and', 'other', 'judicial', 'officers', 'as', 'addl', 'judges', 'of', 'madras', 'high', 'court', 'transfer', 'of', 'shri', 'justice', 'shri', 'justice', 'ms', 'ramachandra', 'rao', 'cj', 'of', 'himachal', 'pradesh', 'high', 'court', 'as', 'cj', 'of', 'jharkhand', 'high', 'court', 'order', 'of', 'appointment', 'of', 'shri', 'justice', 'kr', 'shriram', 'judge', 'bombay', 'high', 'court', 'as', 'chief', 'justice', 'of', 'madras', 'high', 'court', 'order', 'of', 'appointment', 'of', 'shri', 'justice', 'tashi', 'rabstan', 'judge', 'jk', 'and', 'ladakh', 'high', 'court', 'as', 'chief', 'justice', 'of', 'jk', 'and', 'ladakh', 'high', 'court', 'order', 'of', 'appointment', 'of', 'shri', 'justice', 'nitin', 'madhukar', 'jamdar', 'judge', 'bombay', 'high', 'court', 'as', 'chief', 'justice', 'of', 'kerala', 'high', 'court', 'order', 'of', 'appointment', 'of', 'shri', 'justice', 'indra', 'prasanna', 'mukerji', 'judge', 'calcutta', 'high', 'court', 'as', 'chief', 'justice', 'of', 'meghalaya', 'high', 'court', 'order', 'of', 'appointment', 'of', 'shri', 'justice', 'suresh', 'kumar', 'kait', 'judge', 'delhi', 'high', 'court', 'as', 'chief', 'justice', 'of', 'madhya', 'pradesh', 'high', 'court', 'order', 'of', 'appointment', 'of', 'justice', 'rajiv', 'shakdher', 'judge', 'delhi', 'high', 'court', 'as', 'chief', 'justice', 'of', 'himachal', 'pradesh', 'high', 'court', 'order', 'of', 'appointment', 'of', 'shri', 'justice', 'manmohan', 'judge', 'delhi', 'high', 'court', 'as', 'chie', 'justice', 'of', 'delhi', 'high', 'court', 'order', 'of', 'appointment', 'of', 'smt', 'lekshmana', 'chandra', 'victoria', 'gowri', 'and', 'other', 'additional', 'judges', 'of', 'the', 'madras', 'high', 'court', 'as', 'permanent', 'judges', 'of', 'that', 'high', 'court', 'shri', 'arjun', 'ram', 'meghwal', 'honble', 'minister', 'of', 'state', 'ministry', 'of', 'law', 'and', 'justice', 'independent', 'charge', 'profile', 'citizen', 'services', 'national', 'judicial', 'data', 'grid', 'search', 'judgements', 'orders', 'virtual', 'justice', 'clock', 'know', 'your', 'case', 'status', 'live', 'streaming', 'of', 'court', 'cases', 'settle', 'your', 'traffic', 'violation', 'reports', 'documents', 'divisions', 'appointments', 'national', 'mission', 'for', 'justice', 'delivery', 'legal', 'reforms', 'access', 'to', 'justice', 'ecourts', 'justicei', 'justiceii', 'administration', 'important', 'links', 'department', 'of', 'legal', 'affairs', 'legislative', 'department', 'supreme', 'court', 'of', 'india', 'india', 'code', 'national', 'judicial', 'academy', 'national', 'legal', 'services', 'authority', 'ecommittee', 'supreme', 'court', 'of', 'india', 'legal', 'information', 'management', 'briefing', 'system', 'limbs', 'tweets', 'mljgoi', 'photo', 'gallery', 'view', 'all', 'website', 'policies', 'hyperlinking', 'policy', 'copyright', 'policy', 'privacy', 'policy', 'terms', 'and', 'conditions', 'feedback', 'contact', 'us', 'help', 'faq', 'wim', 'visitor', 'summary', 'content', 'owned', 'by', 'department', 'of', 'justice', 'ministry', 'of', 'law', 'and', 'justice', 'goi', 'developed', 'and', 'hosted', 'by', 'national', 'informatics', 'centre', 'ministry', 'of', 'electronics', 'information', 'technology', 'government', 'of', 'india', 'last', 'updated', 'sep', 'certified', 'quality', 'website']\n"
     ]
    }
   ],
   "source": [
    "import re\n",
    "from nltk.tokenize import word_tokenize\n",
    "\n",
    "# Simple preprocessing function\n",
    "def preprocess_text(text):\n",
    "    # Remove non-alphabetic characters\n",
    "    text = re.sub(r'[^a-zA-Z\\s]', '', text)\n",
    "    # Convert to lowercase\n",
    "    text = text.lower()\n",
    "    # Tokenize\n",
    "    tokens = word_tokenize(text)\n",
    "    return tokens\n",
    "\n",
    "# Preprocess the extracted text\n",
    "tokens = preprocess_text(text)\n",
    "print(tokens)\n"
   ]
  },
  {
   "cell_type": "markdown",
   "metadata": {},
   "source": [
    "Create Sentences for Word2Vec"
   ]
  },
  {
   "cell_type": "code",
   "execution_count": 44,
   "metadata": {},
   "outputs": [
    {
     "name": "stdout",
     "output_type": "stream",
     "text": [
      "['department', 'of', 'justice', 'government', 'of', 'india', 'india', 'skip', 'to', 'main', 'content', 'search', 'search', 'social', 'media', 'links', 'sitemap', 'accessibility', 'links', 'accessibility', 'tools', 'color', 'contrast', 'high', 'contrast', 'normal', 'contrast', 'highlight', 'links', 'text', 'size', 'font', 'size', 'increase', 'font', 'size', 'decrease', 'normal', 'font', 'text', 'spacing', 'line', 'height', 'navigation', 'adjustment', 'screen', 'reader', 'english', 'ministry', 'of', 'law', 'and', 'justice', 'government', 'of', 'india', 'department', 'of', 'justice', 'menu', 'toggle', 'more', 'home', 'about', 'us', 'history', 'about', 'department', 'vision', 'and', 'mission', 'functions', 'of', 'department', 'organization', 'chart', 'administrative', 'setup', 'whos', 'who', 'monthly', 'achievements', 'citizens', 'charter', 'acts', 'and', 'rules', 'website', 'information', 'manager', 'administration', 'of', 'justice', 'appointment', 'of', 'judges', 'latest', 'orders', 'of', 'appointment', 'transfer', 'etc', 'memorandum', 'of', 'procedure', 'of', 'appointment', 'of', 'supreme', 'court', 'judges', 'memorandum', 'of', 'procedure', 'of', 'appointment', 'of', 'high', 'court', 'judges', 'list', 'of', 'supreme', 'court', 'judges', 'list', 'of', 'high', 'court', 'judges', 'list', 'of', 'chief', 'justice', 'of', 'the', 'high', 'court', 'vacancy', 'positions', 'high', 'courts', 'principal', 'seats', 'and', 'benches', 'justicei', 'pay', 'allowance', 'and', 'pension', 'first', 'national', 'judicial', 'pay', 'commission', 'second', 'national', 'judicial', 'pay', 'commission', 'memorandum', 'of', 'understanding', 'signed', 'with', 'other', 'countries', 'pecuniary', 'jurisdiction', 'of', 'delhi', 'district', 'courts', 'use', 'of', 'hindi', 'and', 'regional', 'languages', 'redressal', 'of', 'public', 'grievances', 'guidelines', 'of', 'grievances', 'justiceii', 'fast', 'track', 'special', 'court', 'ftscs', 'about', 'fast', 'track', 'special', 'court', 'ftscs', 'portal', 'special', 'courts', 'for', 'mpmla', 'about', 'special', 'courts', 'for', 'mpmla', 'portal', 'sanctions', 'fast', 'track', 'court', 'about', 'fast', 'track', 'court', 'portal', 'family', 'court', 'about', 'family', 'court', 'portal', 'national', 'judicial', 'academy', 'about', 'national', 'judicial', 'academy', 'website', 'pfms', 'national', 'mission', 'national', 'mission', 'for', 'justice', 'delivery', 'legal', 'reforms', 'vision', 'document', 'advisory', 'council', 'css', 'judicial', 'infrastructure', 'nyaya', 'vikas', 'ease', 'of', 'doing', 'business', 'gram', 'nyayalaya', 'scheme', 'for', 'action', 'research', 'and', 'studies', 'on', 'judicial', 'reforms', 'vacancy', 'position', 'in', 'district', 'and', 'subordinate', 'courts', 'ecourts', 'mmp', 'dashboard', 'phasei', 'phaseii', 'phaseiii', 'composition', 'of', 'ecommittee', 'ecommittee', 'newsletters', 'ecourts', 'achievements', 'computerization', 'and', 'wan', 'connectivity', 'cis', 'and', 'covid', 'management', 'software', 'patch', 'the', 'national', 'judicial', 'data', 'grid', 'njdg', 'virtual', 'courts', 'video', 'conferencing', 'live', 'streaming', 'efiling', 'epayments', 'esewa', 'kendra', 'ecourt', 'services', 'judgment', 'search', 'portal', 'national', 'service', 'and', 'tracking', 'of', 'electronic', 'processes', 'nstep', 'justice', 'clock', 'secure', 'scalable', 'sugamya', 'website', 'as', 'a', 'service', 'swaas', 'digitization', 'of', 'records', 'information', 'education', 'communication', 'iec', 'awards', 'and', 'recognition', 'mis', 'portal', 'for', 'cpcs', 'official', 'use', 'only', 'wan', 'monitoring', 'portal', 'official', 'use', 'only', 'training', 'and', 'awareness', 'programs', 'pfms', 'access', 'to', 'justice', 'designing', 'innovative', 'solutions', 'for', 'holistic', 'access', 'to', 'justice', 'tele', 'law', 'about', 'tele', 'law', 'portal', 'pamphlet', 'in', 'media', 'nyaya', 'bandhu', 'pro', 'bono', 'legal', 'services', 'about', 'activities', 'in', 'media', 'pamphlet', 'nyaya', 'bandhu', 'pro', 'bono', 'portal', 'legal', 'literacy', 'legal', 'awareness', 'about', 'iec', 'material', 'brochure', 'pamphlet', 'leaflet', 'webinars', 'in', 'media', 'digital', 'library', 'information', 'in', 'different', 'languages', 'videos', 'national', 'legal', 'services', 'authority', 'nalsa', 'about', 'nalsa', 'portal', 'grantsinaid', 'to', 'nalsa', 'samvidhan', 'about', 'hamara', 'samvidhan', 'hamara', 'samman', 'sabko', 'nyay', 'har', 'ghar', 'nyaya', 'overview', 'activities', 'nav', 'bharat', 'nav', 'sankalp', 'overview', 'activities', 'vidhi', 'jagriti', 'abhiyan', 'overview', 'activities', 'samvidhan', 'katta', 'about', 'guidelines', 'for', 'submission', 'media', 'event', 'national', 'event', 'overview', 'media', 'gallery', 'st', 'regional', 'event', 'overview', 'media', 'gallery', 'nd', 'regional', 'event', 'overview', 'media', 'gallery', 'gallery', 'photos', 'videos', 'media', 'corner', 'press', 'release', 'photo', 'gallery', 'video', 'gallery', 'events', 'dashboard', 'azadi', 'ka', 'amrit', 'mahotsav', 'national', 'legal', 'services', 'authority', 'nalsa', 'telelaw', 'other', 'programmes', 'others', 'parliament', 'questions', 'notices', 'recruitments', 'tenders', 'right', 'to', 'information', 'rti', 'pfms', 'orders', 'schemes', 'consolidated', 'guidelines', 'close', 'latest', 'news', 'new', 'sexual', 'harrasment', 'of', 'women', 'at', 'work', 'place', 'constitution', 'of', 'internal', 'complaints', 'committee', 'icc', 'in', 'the', 'department', 'of', 'justice', 'about', 'department', 'as', 'per', 'the', 'allocation', 'of', 'business', 'rules', 'department', 'of', 'justice', 'is', 'a', 'part', 'of', 'ministry', 'of', 'law', 'justice', 'government', 'of', 'india', 'it', 'is', 'one', 'of', 'the', 'oldest', 'ministries', 'of', 'the', 'government', 'of', 'india', 'till', 'department', 'of', 'justice', 'was', 'part', 'of', 'ministry', 'of', 'home', 'affairs', 'and', 'union', 'home', 'secretary', 'had', 'been', 'the', 'secretary', 'of', 'department', 'of', 'justice', 'keeping', 'in', 'view', 'the', 'increasing', 'workload', 'and', 'formulating', 'many', 'policies', 'and', 'programmes', 'on', 'judicial', 'reforms', 'in', 'the', 'country', 'a', 'separate', 'department', 'namely', 'department', 'of', 'justice', 'was', 'carved', 'out', 'from', 'mha', 'and', 'placed', 'under', 'the', 'charge', 'of', 'secretary', 'to', 'government', 'of', 'india', 'and', 'it', 'started', 'working', 'as', 'such', 'from', 'st', 'january', 'under', 'the', 'ministry', 'of', 'law', 'justice', 'the', 'department', 'is', 'housed', 'in', 'the', 'jaisalmer', 'house', 'man', 'singh', 'road', 'new', 'delhi', 'the', 'organizational', 'setup', 'of', 'the', 'department', 'includes', 'joint', 'secretaries', 'directors', 'deputy', 'secretaries', 'and', 'under', 'secretaries', 'the', 'functions', 'of', 'the', 'department', 'of', 'justice', 'include', 'the', 'appointment', 'resignation', 'and', 'removal', 'of', 'the', 'chief', 'justice', 'of', 'india', 'judges', 'of', 'the', 'supreme', 'court', 'of', 'india', 'chief', 'justices', 'and', 'judges', 'of', 'the', 'high', 'courts', 'and', 'their', 'service', 'matters', 'in', 'addition', 'the', 'department', 'implements', 'important', 'schemes', 'for', 'development', 'of', 'infrastructure', 'facilities', 'for', 'judiciary', 'setting', 'up', 'of', 'special', 'courts', 'for', 'speedy', 'trial', 'and', 'disposal', 'of', 'cases', 'of', 'sensitive', 'nature', 'fast', 'track', 'special', 'court', 'for', 'cases', 'of', 'rape', 'and', 'pocso', 'act', 'ecourt', 'project', 'on', 'computerization', 'of', 'various', 'courts', 'across', 'the', 'country', 'legal', 'aid', 'to', 'poor', 'and', 'access', 'to', 'justice', 'financial', 'assistance', 'to', 'national', 'judicial', 'academy', 'for', 'providing', 'training', 'to', 'the', 'judicial', 'officers', 'of', 'the', 'country', 'the', 'functions', 'of', 'department', 'of', 'justice', 'are', 'given', 'in', 'allocation', 'of', 'business', 'rules', 'whats', 'new', 'order', 'of', 'appointment', 'of', 'ms', 'r', 'poornima', 'and', 'other', 'judicial', 'officers', 'as', 'addl', 'judges', 'of', 'madras', 'high', 'court', 'transfer', 'of', 'shri', 'justice', 'shri', 'justice', 'ms', 'ramachandra', 'rao', 'cj', 'of', 'himachal', 'pradesh', 'high', 'court', 'as', 'cj', 'of', 'jharkhand', 'high', 'court', 'order', 'of', 'appointment', 'of', 'shri', 'justice', 'kr', 'shriram', 'judge', 'bombay', 'high', 'court', 'as', 'chief', 'justice', 'of', 'madras', 'high', 'court', 'order', 'of', 'appointment', 'of', 'shri', 'justice', 'tashi', 'rabstan', 'judge', 'jk', 'and', 'ladakh', 'high', 'court', 'as', 'chief', 'justice', 'of', 'jk', 'and', 'ladakh', 'high', 'court', 'order', 'of', 'appointment', 'of', 'shri', 'justice', 'nitin', 'madhukar', 'jamdar', 'judge', 'bombay', 'high', 'court', 'as', 'chief', 'justice', 'of', 'kerala', 'high', 'court', 'order', 'of', 'appointment', 'of', 'shri', 'justice', 'indra', 'prasanna', 'mukerji', 'judge', 'calcutta', 'high', 'court', 'as', 'chief', 'justice', 'of', 'meghalaya', 'high', 'court', 'order', 'of', 'appointment', 'of', 'shri', 'justice', 'suresh', 'kumar', 'kait', 'judge', 'delhi', 'high', 'court', 'as', 'chief', 'justice', 'of', 'madhya', 'pradesh', 'high', 'court', 'order', 'of', 'appointment', 'of', 'justice', 'rajiv', 'shakdher', 'judge', 'delhi', 'high', 'court', 'as', 'chief', 'justice', 'of', 'himachal', 'pradesh', 'high', 'court', 'order', 'of', 'appointment', 'of', 'shri', 'justice', 'manmohan', 'judge', 'delhi', 'high', 'court', 'as', 'chie', 'justice', 'of', 'delhi', 'high', 'court', 'order', 'of', 'appointment', 'of', 'smt', 'lekshmana', 'chandra', 'victoria', 'gowri', 'and', 'other', 'additional', 'judges', 'of', 'the', 'madras', 'high', 'court', 'as', 'permanent', 'judges', 'of', 'that', 'high', 'court', 'shri', 'arjun', 'ram', 'meghwal', 'honble', 'minister', 'of', 'state', 'ministry', 'of', 'law', 'and', 'justice', 'independent', 'charge', 'profile', 'citizen', 'services', 'national', 'judicial', 'data', 'grid', 'search', 'judgements', 'orders', 'virtual', 'justice', 'clock', 'know', 'your', 'case', 'status', 'live', 'streaming', 'of', 'court', 'cases', 'settle', 'your', 'traffic', 'violation', 'reports', 'documents', 'divisions', 'appointments', 'national', 'mission', 'for', 'justice', 'delivery', 'legal', 'reforms', 'access', 'to', 'justice', 'ecourts', 'justicei', 'justiceii', 'administration', 'important', 'links', 'department', 'of', 'legal', 'affairs', 'legislative', 'department', 'supreme', 'court', 'of', 'india', 'india', 'code', 'national', 'judicial', 'academy', 'national', 'legal', 'services', 'authority', 'ecommittee', 'supreme', 'court', 'of', 'india', 'legal', 'information', 'management', 'briefing', 'system', 'limbs', 'tweets', 'mljgoi', 'photo', 'gallery', 'view', 'all', 'website', 'policies', 'hyperlinking', 'policy', 'copyright', 'policy', 'privacy', 'policy', 'terms', 'and', 'conditions', 'feedback', 'contact', 'us', 'help', 'faq', 'wim', 'visitor', 'summary', 'content', 'owned', 'by', 'department', 'of', 'justice', 'ministry', 'of', 'law', 'and', 'justice', 'goi', 'developed', 'and', 'hosted', 'by', 'national', 'informatics', 'centre', 'ministry', 'of', 'electronics', 'information', 'technology', 'government', 'of', 'india', 'last', 'updated', 'sep', 'certified', 'quality', 'website']\n"
     ]
    }
   ],
   "source": [
    "# Create sentences from tokens (you might want to group tokens into sentences)\n",
    "sentences = []\n",
    "sentence = []\n",
    "for token in tokens:\n",
    "    if token:  # Ignore empty tokens\n",
    "        sentence.append(token)\n",
    "    if token in {'.', '!', '?'}:  # Assume punctuation indicates end of a sentence\n",
    "        sentences.append(sentence)\n",
    "        sentence = []\n",
    "\n",
    "# Add the last sentence if it exists\n",
    "if sentence:\n",
    "    sentences.append(sentence)\n",
    "    print(sentence)\n"
   ]
  },
  {
   "cell_type": "markdown",
   "metadata": {},
   "source": []
  },
  {
   "cell_type": "markdown",
   "metadata": {},
   "source": [
    "Train the Word2Vec Model"
   ]
  },
  {
   "cell_type": "code",
   "execution_count": 45,
   "metadata": {},
   "outputs": [
    {
     "name": "stdout",
     "output_type": "stream",
     "text": [
      "Word2Vec<vocab=466, vector_size=100, alpha=0.025>\n"
     ]
    }
   ],
   "source": [
    "from gensim.models import Word2Vec\n",
    "\n",
    "# Create and train the model\n",
    "model = Word2Vec(sentences, vector_size=100, window=5, min_count=1, workers=4)\n",
    "print(model)"
   ]
  },
  {
   "cell_type": "markdown",
   "metadata": {},
   "source": [
    " Use the Model"
   ]
  },
  {
   "cell_type": "code",
   "execution_count": 46,
   "metadata": {},
   "outputs": [
    {
     "name": "stdout",
     "output_type": "stream",
     "text": [
      "Vector for 'department':\n",
      " [ 7.69914547e-03 -3.56677850e-03 -8.19689711e-04  1.03736168e-03\n",
      " -9.70817473e-06 -7.37077615e-04  7.09109101e-03  2.06143525e-03\n",
      " -3.87959159e-03 -2.12278753e-03  5.36426948e-03  2.42565511e-04\n",
      " -8.68943229e-04  9.87230893e-03 -4.62778332e-03 -1.57969410e-03\n",
      "  9.50701628e-03  5.46239922e-03  1.02983229e-03 -1.10215023e-02\n",
      "  1.77977874e-03 -1.50866795e-03  1.03674056e-02  5.04925963e-04\n",
      "  7.20055890e-04  2.44201347e-03 -2.45028757e-03 -5.86744072e-03\n",
      " -1.02674542e-03 -2.01797951e-03  7.43748667e-03  8.84958170e-03\n",
      " -5.58810600e-04  1.89372362e-03 -6.80521782e-03  2.93847849e-03\n",
      " -6.68175565e-03 -9.37949494e-03 -6.62700459e-03 -1.07325455e-02\n",
      "  7.32865324e-03 -6.77374285e-03  7.77672650e-03 -7.04363920e-03\n",
      "  4.66789724e-03  9.46760457e-03 -8.65206588e-03 -9.88525152e-03\n",
      " -3.42076342e-03 -2.38959794e-03  5.14408348e-05 -1.00335684e-02\n",
      " -8.84052552e-03  2.87498720e-03 -9.07135941e-03 -8.87199771e-03\n",
      " -1.51433400e-03 -9.08231642e-03 -8.63421801e-03 -8.18500668e-03\n",
      " -2.96997256e-04 -4.44516074e-03  6.65609771e-03  8.42610898e-04\n",
      " -4.53572953e-03  7.19823735e-03 -4.98892646e-03 -3.82450712e-03\n",
      " -8.92003998e-03 -3.59099684e-03 -2.53006862e-03  6.87338412e-03\n",
      " -1.84267759e-03  4.96278098e-03  7.98898004e-03 -7.27191661e-03\n",
      "  4.16328572e-03  6.29342953e-03 -3.78611870e-03  6.89483294e-03\n",
      "  5.57331694e-03 -6.31855195e-03 -7.82371126e-03  4.03740676e-03\n",
      " -2.48528295e-03 -5.76101383e-03  9.92871262e-03 -3.95373208e-03\n",
      " -5.51923737e-03 -4.12275549e-04 -9.12744668e-04  1.43521337e-03\n",
      " -3.70147196e-03 -4.42807068e-05  1.32357550e-03  1.73553894e-03\n",
      "  8.58015195e-03 -6.88648736e-03 -1.64435979e-03  5.56443492e-03]\n",
      "\n",
      "Most similar words to 'department':\n",
      " [('track', 0.39260295033454895), ('delhi', 0.3273203372955322), ('committee', 0.3193047046661377), ('aid', 0.2991403043270111), ('tools', 0.2978515923023224)]\n",
      "\n",
      "Similarity between 'department' and 'administrative': 0.01088877\n"
     ]
    }
   ],
   "source": [
    "# Get the vector for a specific word\n",
    "vector = model.wv['department']  # Replace 'department' with a word from your text\n",
    "print(\"Vector for 'department':\\n\", vector)\n",
    "\n",
    "# Find most similar words\n",
    "similar_words = model.wv.most_similar('department', topn=5)\n",
    "print(\"\\nMost similar words to 'department':\\n\", similar_words)\n",
    "\n",
    "# Check similarity between two words\n",
    "similarity = model.wv.similarity('department', 'administrative')  # Replace with your words\n",
    "print(\"\\nSimilarity between 'department' and 'administrative':\", similarity)\n"
   ]
  },
  {
   "cell_type": "markdown",
   "metadata": {},
   "source": [
    "Save and Load the Model"
   ]
  },
  {
   "cell_type": "code",
   "execution_count": 47,
   "metadata": {},
   "outputs": [],
   "source": [
    "# Save the model\n",
    "model.save(\"word2vec_model.model\")\n",
    "\n",
    "# Load the model later\n",
    "loaded_model = Word2Vec.load(\"word2vec_model.model\")\n"
   ]
  }
 ],
 "metadata": {
  "kernelspec": {
   "display_name": "base",
   "language": "python",
   "name": "python3"
  },
  "language_info": {
   "codemirror_mode": {
    "name": "ipython",
    "version": 3
   },
   "file_extension": ".py",
   "mimetype": "text/x-python",
   "name": "python",
   "nbconvert_exporter": "python",
   "pygments_lexer": "ipython3",
   "version": "3.11.7"
  }
 },
 "nbformat": 4,
 "nbformat_minor": 2
}
